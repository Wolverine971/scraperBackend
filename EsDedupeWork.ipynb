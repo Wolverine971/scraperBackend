{
 "cells": [
  {
   "cell_type": "code",
   "execution_count": 48,
   "metadata": {},
   "outputs": [],
   "source": [
    "import hashlib\n",
    "from elasticsearch import Elasticsearch\n",
    "#https://www.elastic.co/blog/how-to-find-and-remove-duplicate-documents-in-elasticsearch\n",
    "es = Elasticsearch([\"localhost:9200\"])\n",
    "dict_of_duplicate_docs = {}\n",
    "# The following line defines the fields that will be\n",
    "# used to determine if a document is a duplicate\n",
    "keys_to_include_in_hash = [\"url\", \"title\"]\n",
    "# Process documents returned by the current search/scroll\n",
    "def populate_dict_of_duplicate_docs(hits):\n",
    "    for item in hits:\n",
    "        combined_key = \"\"\n",
    "        for mykey in keys_to_include_in_hash:\n",
    "            combined_key += str(item['_source'][mykey])\n",
    "        _id = item[\"_id\"]\n",
    "        hashval = hashlib.md5(combined_key.encode('utf-8')).digest()\n",
    "        # If the hashval is new, then we will create a new key\n",
    "        # in the dict_of_duplicate_docs, which will be\n",
    "        # assigned a value of an empty array.\n",
    "        # We then immediately push the _id onto the array.\n",
    "        # If hashval already exists, then\n",
    "        # we will just push the new _id onto the existing array\n",
    "        dict_of_duplicate_docs.setdefault(hashval, []).append(_id)\n",
    "# Loop over all documents in the index, and populate the\n",
    "# dict_of_duplicate_docs data structure.\n",
    "async def scroll_over_all_docs(index):\n",
    "    data = es.search(index=index, scroll='1m',  body={\"query\": {\"match_all\": {}}})\n",
    "    # Get the scroll ID\n",
    "    sid = data['_scroll_id']\n",
    "    scroll_size = len(data['hits']['hits'])\n",
    "    # Before scroll, process current batch of hits\n",
    "    populate_dict_of_duplicate_docs(data['hits']['hits'])\n",
    "    while scroll_size > 0:\n",
    "        data = es.scroll(scroll_id=sid, scroll='2m')\n",
    "        # Process current batch of hits\n",
    "        populate_dict_of_duplicate_docs(data['hits']['hits'])\n",
    "        # Update the scroll ID\n",
    "        sid = data['_scroll_id']\n",
    "        # Get the number of results that returned in the last scroll\n",
    "        scroll_size = len(data['hits']['hits'])\n",
    "    \n",
    "    return dict_of_duplicate_docs\n",
    "def loop_over_hashes_and_remove_duplicates(index, dict):\n",
    "    # Search through the hash of doc values to see if any\n",
    "    # duplicate hashes have been found\n",
    "    for hashval, array_of_ids in dict.items():\n",
    "      if len(array_of_ids) > 1:\n",
    "        print(\"********** Duplicate docs hash=%s **********\" % hashval)\n",
    "        # Get the documents that have mapped to the current hashval\n",
    "        matching_docs = es.mget(index=index, body={\"ids\": array_of_ids})\n",
    "        #for doc in matching_docs['docs']:\n",
    "        for num, doc in enumerate(matching_docs['docs'], start=2):\n",
    "            # In this example, we just print the duplicate docs.\n",
    "            # This code could be easily modified to delete duplicates\n",
    "            # here instead of printing them\n",
    "            #print(\"doc=%s\\n\" % doc)\n",
    "            #DELETE /<index>/_\n",
    "            # doc/<_id>\n",
    "            print(doc)\n",
    "                # res = es.delete(index=index, id=doc[\"_id\"], doc_type='doc')\n",
    "            res = es.delete(index, doc[\"_id\"])\n",
    "            print(res)\n",
    "            # if num > 2:\n",
    "            #     print(doc)\n",
    "            #     # res = es.delete(index=index, id=doc[\"_id\"], doc_type='doc')\n",
    "            #     res = es.delete(index, doc[\"_id\"])\n",
    "            #     print(res)"
   ]
  },
  {
   "cell_type": "code",
   "execution_count": 49,
   "metadata": {},
   "outputs": [],
   "source": [
    "async def deleteIndex(index):\n",
    "    try:\n",
    "        print(index)\n",
    "        dict = await scroll_over_all_docs(index)\n",
    "        if(dict != None):\n",
    "            res = await loop_over_hashes_and_remove_duplicates(index, dict)\n",
    "            print(res)\n",
    "            dict_of_duplicate_docs = {}\n",
    "    except Exception as e:\n",
    "        print('error')\n",
    "        print(e)"
   ]
  },
  {
   "cell_type": "code",
   "execution_count": 50,
   "metadata": {
    "tags": []
   },
   "outputs": [
    {
     "output_type": "stream",
     "name": "stdout",
     "text": "enfj\nerror\nobject NoneType can't be used in 'await' expression\nenfp\nerror\nobject NoneType can't be used in 'await' expression\nentj\nerror\nobject NoneType can't be used in 'await' expression\nentp\nerror\nobject dict can't be used in 'await' expression\nesfj\nerror\nobject dict can't be used in 'await' expression\nesfp\nerror\nobject dict can't be used in 'await' expression\nestj\nerror\nobject dict can't be used in 'await' expression\nestp\nerror\nobject dict can't be used in 'await' expression\ninfj\nerror\nobject dict can't be used in 'await' expression\ninfp\nerror\nobject dict can't be used in 'await' expression\nintj\nerror\nobject dict can't be used in 'await' expression\nintp\nerror\nobject dict can't be used in 'await' expression\nisfj\nerror\nobject dict can't be used in 'await' expression\nisfp\nerror\nobject dict can't be used in 'await' expression\nistj\nerror\nobject dict can't be used in 'await' expression\nistp\nerror\nobject dict can't be used in 'await' expression\n"
    }
   ],
   "source": [
    "import re\n",
    "\n",
    "for index in es.indices.get('*'):\n",
    "    if(re.match(r'^[e|i]+[n|s]', index)):\n",
    "        await deleteIndex(index)\n",
    "        #tasks = scroll_over_all_docs(index)\n",
    "        #await asyncio.wait(tasks)\n",
    "        #loop_over_hashes_and_remove_duplicates(index)\n",
    "        "
   ]
  },
  {
   "cell_type": "code",
   "execution_count": null,
   "metadata": {},
   "outputs": [],
   "source": []
  }
 ],
 "metadata": {
  "kernelspec": {
   "display_name": "Python 3",
   "language": "python",
   "name": "python3"
  },
  "language_info": {
   "codemirror_mode": {
    "name": "ipython",
    "version": 3
   },
   "file_extension": ".py",
   "mimetype": "text/x-python",
   "name": "python",
   "nbconvert_exporter": "python",
   "pygments_lexer": "ipython3",
   "version": "3.7.4-final"
  }
 },
 "nbformat": 4,
 "nbformat_minor": 2
}